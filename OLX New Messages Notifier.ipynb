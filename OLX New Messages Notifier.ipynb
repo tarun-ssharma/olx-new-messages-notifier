{
 "cells": [
  {
   "cell_type": "code",
   "execution_count": 19,
   "metadata": {},
   "outputs": [
    {
     "name": "stdout",
     "output_type": "stream",
     "text": [
      "Collecting selenium==3.0.0b3\n",
      "  Downloading selenium-3.0.0b3-py2.py3-none-any.whl (912 kB)\n",
      "\u001b[K     |████████████████████████████████| 912 kB 1.5 MB/s eta 0:00:01\n",
      "\u001b[?25hInstalling collected packages: selenium\n",
      "  Attempting uninstall: selenium\n",
      "    Found existing installation: selenium 3.141.0\n",
      "    Uninstalling selenium-3.141.0:\n",
      "      Successfully uninstalled selenium-3.141.0\n",
      "Successfully installed selenium-3.0.0b3\n",
      "Note: you may need to restart the kernel to use updated packages.\n"
     ]
    }
   ],
   "source": [
    "pip install selenium"
   ]
  },
  {
   "cell_type": "code",
   "execution_count": 2,
   "metadata": {},
   "outputs": [
    {
     "name": "stdout",
     "output_type": "stream",
     "text": [
      "--2020-10-09 22:52:42--  https://chromedriver.storage.googleapis.com/84.0.4147.30/chromedriver_linux64.zip\n",
      "Resolving chromedriver.storage.googleapis.com (chromedriver.storage.googleapis.com)... 216.58.196.112\n",
      "Connecting to chromedriver.storage.googleapis.com (chromedriver.storage.googleapis.com)|216.58.196.112|:443... connected.\n",
      "HTTP request sent, awaiting response... 200 OK\n",
      "Length: 5306126 (5.1M) [application/zip]\n",
      "Saving to: ‘chromedriver_linux64.zip.1’\n",
      "\n",
      "chromedriver_linux6 100%[===================>]   5.06M  1.84MB/s    in 2.7s    \n",
      "\n",
      "2020-10-09 22:52:45 (1.84 MB/s) - ‘chromedriver_linux64.zip.1’ saved [5306126/5306126]\n",
      "\n"
     ]
    }
   ],
   "source": [
    "!wget https://chromedriver.storage.googleapis.com/84.0.4147.30/chromedriver_linux64.zip"
   ]
  },
  {
   "cell_type": "code",
   "execution_count": 6,
   "metadata": {},
   "outputs": [],
   "source": [
    "from selenium import webdriver\n",
    "import os\n",
    "from selenium.webdriver.support.ui import WebDriverWait\n",
    "from selenium.webdriver.common.desired_capabilities import DesiredCapabilities\n",
    "from selenium.webdriver.support import expected_conditions as EC\n",
    "from selenium.webdriver.common.by import By\n",
    "from selenium.webdriver.common.action_chains import ActionChains"
   ]
  },
  {
   "cell_type": "markdown",
   "metadata": {},
   "source": [
    "Trying to log-in via gmail causes the following issue for which I couldn't find a solution: ![error](couldntSignIn.png)"
   ]
  },
  {
   "cell_type": "markdown",
   "metadata": {},
   "source": [
    "Thus, I tried logging in via phone instead, and it worked just fine!"
   ]
  },
  {
   "cell_type": "code",
   "execution_count": 40,
   "metadata": {},
   "outputs": [
    {
     "name": "stdout",
     "output_type": "stream",
     "text": [
      "No new messages!\n"
     ]
    }
   ],
   "source": [
    "#copy path from above\n",
    "cap = DesiredCapabilities.CHROME\n",
    "cap['chrome.switches'] = ['--disable-local-storage']\n",
    "options = webdriver.ChromeOptions()\n",
    "options.add_argument(\"--user-data-dir=/home/tarun/.config/google-chrome/Default\")\n",
    "options.add_argument(\"--disable-extensions\")\n",
    "options.add_argument(\"--incognito\");\n",
    "#TODO: Uncomment this\n",
    "#options.add_argument(\"--set-headless\")\n",
    "chrome_driver =os.getcwd() + '/chromedriver'\n",
    "os.environ[\"webdriver.chrome.driver\"] = chrome_driver\n",
    "driver = webdriver.Chrome(executable_path=chrome_driver,options=options, desired_capabilities=cap)\n",
    "\n",
    "try:\n",
    "    #TODO: Clear cache\n",
    "    #Now go to olx page, click on login\n",
    "    driver.get(\"https://www.olx.in/\")\n",
    "    #Login:\n",
    "    login_button = driver.find_element_by_xpath(\"//button[.//span[text()='Login']]\")\n",
    "    login_button.click()\n",
    "    wait = WebDriverWait(driver, 10)\n",
    "    wait.until(EC.presence_of_element_located((By.XPATH,\"//button[.//span[text()='Continue with Phone']]\")))\n",
    "    \n",
    "    driver.find_element_by_xpath(\"//button[.//span[text()='Continue with Phone']]\").click()\n",
    "    wait = WebDriverWait(driver, 10)\n",
    "    wait.until(EC.presence_of_element_located((By.NAME,'phone')))\n",
    "    \n",
    "    driver.find_element_by_name('phone').send_keys(9958520226)\n",
    "    driver.implicitly_wait(5)\n",
    "    driver.find_element_by_xpath(\"//button[.//span[text()='Next']]\").click()\n",
    "    wait = WebDriverWait(driver, 10)\n",
    "    wait.until(EC.presence_of_element_located((By.NAME,'password')))\n",
    "    \n",
    "    driver.find_element_by_name('password').send_keys('domestic@03')\n",
    "    driver.implicitly_wait(5)\n",
    "    driver.find_element_by_xpath('//button[.//span[text()=\"Log in\"]]').click()\n",
    "    wait.until(EC.presence_of_element_located((By.XPATH,\"//div[@data-aut-id='iconProfile']\")))\n",
    "    \n",
    "    \n",
    "    #Now we are logged in!\n",
    "    driver.get('https://www.olx.in/nf/chat')\n",
    "    wait.until(EC.presence_of_element_located((By.XPATH,\"//span[.//span[text()='Inbox']]\")))\n",
    "    unread_count_tag = driver.find_elements_by_xpath(\"//span[.//span[text()='Inbox']]/following-sibling::div/span\")\n",
    "    if(len(unread_count_tag) == 0):\n",
    "        print('No new messages!')\n",
    "    else:\n",
    "        print(f'You have {unread_count_tag[0].text} new messages!')\n",
    "    \n",
    "except Exception as e:\n",
    "    print(e)\n",
    "finally:\n",
    "    driver.close()"
   ]
  },
  {
   "cell_type": "markdown",
   "metadata": {},
   "source": [
    "**Next Steps**:\n",
    "1. Notify me if there are any unread messages using notification/arduino LED.\n",
    "2. Implement the same using image processing to see if that's faster."
   ]
  }
 ],
 "metadata": {
  "kernelspec": {
   "display_name": "Python 3",
   "language": "python",
   "name": "python3"
  },
  "language_info": {
   "codemirror_mode": {
    "name": "ipython",
    "version": 3
   },
   "file_extension": ".py",
   "mimetype": "text/x-python",
   "name": "python",
   "nbconvert_exporter": "python",
   "pygments_lexer": "ipython3",
   "version": "3.7.0"
  }
 },
 "nbformat": 4,
 "nbformat_minor": 4
}
